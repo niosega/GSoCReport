{
 "cells": [
  {
   "cell_type": "markdown",
   "metadata": {},
   "source": [
    "# Maximal Static Expansion for efficient parallelization on GPU\n",
    "\n",
    "## Context\n",
    "\n",
    "### Polly\n",
    "My GSoC project is part of Polly. Polly is a loop and data-locality optimizer for LLVM. The optimisations are made using a mathematical model called polyhedral model. It models the memory access of the program. After modeling, transformations (tilling, loop fusion, loop unrolling ...) can be applied on the model to improve data-locality and/or parallelization. The aim of my project was to implement a transformation called Maximal Static Expansion (MSE).\n",
    "\n",
    "### Maximal static expansion\n",
    "Data-dependences in a program can lead to a very bad automatic parallelization. Modern compilers use techniques to reduce the number of such dependences. One of them is Maximal Static Expansion. The MSE is a transformation which expand the memory access to and from Array or Scalar. The goal is to disambiguate memory accesses by assigning different memory locations to non-conflicting writes. This method is described in a paper written by Denis Barthou, Albert Cohen and Jean-Francois Collard.[^f1] \n",
    "Let take a example (from the article) to understand the principle :"
   ]
  },
  {
   "cell_type": "code",
   "execution_count": null,
   "metadata": {
    "collapsed": true
   },
   "outputs": [],
   "source": [
    "int tmp;\n",
    "for (int i = 0; i < N; i++) {\n",
    "    tmp = i;\n",
    "    for (int j = 0; j < N; j++) {\n",
    "        tmp = tmp + i + j;\n",
    "    }\n",
    "    A[i] = tmp;\n",
    "}"
   ]
  },
  {
   "cell_type": "markdown",
   "metadata": {},
   "source": [
    "The data-dependences induced by tmp make the two loops unparallelizable : the iteration j of the inner-loop needs value from the previous iteration and it is impossible to parrallelize the i-loop because tmp is used in all iterations.\n",
    "\n",
    "If we expand the accesses to tmp according to the outermost loop, we can then parallelize the i-loop."
   ]
  },
  {
   "cell_type": "code",
   "execution_count": null,
   "metadata": {
    "collapsed": true
   },
   "outputs": [],
   "source": [
    "int tmp[N];\n",
    "for (int i = 0; i < N; i++) {\n",
    "    tmp[i] = i;\n",
    "    for (int j = 0; j < N; j++) {\n",
    "        tmp[i] = tmp[i] + i + j;\n",
    "    }\n",
    "    A[i] = tmp[i];\n",
    "}"
   ]
  },
  {
   "cell_type": "markdown",
   "metadata": {},
   "source": [
    "The accesses to tmp are now made to/from a different location for each iteration of the i-loop. It is then possible to execute the different iteration on different computation units (GPU, CPU ...).\n",
    "\n",
    "### Static single assignement\n",
    "Due to lack of time, I was not able to implement **maximal** static expansion but only fully-indexed expansion. The principle of fully-index expansion is that each write goes to a different memory location. \n",
    "Let see the idea on an example :"
   ]
  },
  {
   "cell_type": "code",
   "execution_count": null,
   "metadata": {
    "collapsed": true
   },
   "outputs": [],
   "source": [
    "int tmp;\n",
    "for (int i = 0; i < N; i++) {\n",
    "    tmp = i;\n",
    "    for (int j = 0; j < N; j++) {\n",
    "        B[j] = tmp + 3;\n",
    "    }\n",
    "    A[i] = B[i];\n",
    "}"
   ]
  },
  {
   "cell_type": "markdown",
   "metadata": {},
   "source": [
    "For the sake of simplicity, only the arrays will be expanded in this example. The fully expanded version is :"
   ]
  },
  {
   "cell_type": "code",
   "execution_count": null,
   "metadata": {
    "collapsed": true
   },
   "outputs": [],
   "source": [
    "int tmp;\n",
    "for (int i = 0; i < N; i++) {\n",
    "    tmp = i;\n",
    "    for (int j = 0; j < N; j++) {\n",
    "        B[i][j] = tmp + 3;\n",
    "    }\n",
    "    A[i] = B[i][i];\n",
    "}"
   ]
  },
  {
   "cell_type": "markdown",
   "metadata": {},
   "source": [
    "The details of fully-indexed expansion will be discussed in the following sections."
   ]
  },
  {
   "cell_type": "markdown",
   "metadata": {},
   "source": [
    "\n",
    "## My work\n",
    "My project is part of Polly. I am a french student but during the GSoC I was a student at the university of Passau, Germany. The LooPo team welcome me and more especially Andreas Simbürger, one of my GSoC mentor and my master thesis supervisor. My other GSoC mentor is Michael Kruse, one of the main contributor to Polly, actually working in France.\n",
    "I'd like to thank all the people that help and guide me and more especially Andreas and Michael. \n",
    "\n",
    "### JSON bug fix\n",
    "### Allocate array on heap\n",
    "### Array Fully indexed exp\n",
    "### Scalar Fully indexed exp\n",
    "\n",
    "## Evaluation\n",
    "\n",
    "## Remaining work\n",
    "\n",
    "### MAXIMAL expansion\n",
    "### Select which SAI to expand"
   ]
  },
  {
   "cell_type": "markdown",
   "metadata": {},
   "source": [
    "[^f1]: Denis Barthou, Albert Cohen, and Jean-François Collard. 2000. Maximal Static Expansion. Int. J. Parallel Program. 28, 3 (June 2000), 213-243. DOI=http://dx.doi.org/10.1023/A:1007500431910 \n"
   ]
  }
 ],
 "metadata": {
  "kernelspec": {
   "display_name": "Python 3",
   "language": "python",
   "name": "python3"
  },
  "language_info": {
   "codemirror_mode": {
    "name": "ipython",
    "version": 3
   },
   "file_extension": ".py",
   "mimetype": "text/x-python",
   "name": "python",
   "nbconvert_exporter": "python",
   "pygments_lexer": "ipython3",
   "version": "3.5.2"
  }
 },
 "nbformat": 4,
 "nbformat_minor": 2
}

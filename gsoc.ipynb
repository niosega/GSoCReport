{
 "cells": [
  {
   "cell_type": "markdown",
   "metadata": {},
   "source": [
    "# Maximal Static Expansion for efficient parallelization on GPU\n",
    "\n",
    "## Context\n",
    "\n",
    "### Polly\n",
    "My GSoC project is part of Polly. Polly is a loop and data-locality optimizer for LLVM. The optimisations are made using a mathematical model called polyhedral model. It models the memory access of the program. After modeling, transformations (tilling, loop fusion, loop unrolling ...) can be applied on the model to improve data-locality and/or parallelization. The aim of my project was to implement a transformation called Maximal Static Expansion (MSE).\n",
    "\n",
    "### Maximal static expansion\n",
    "Data-dependences in a program can lead to a very bad automatic parallelization. Modern compilers use techniques to reduce the number of such dependences. One of them is Maximal Static Expansion. The MSE is a transformation which expand the memory access to and from Array or Scalar. The goal is to disambiguate memory accesses by assigning different memory locations to non-conflicting writes. This method is described in a paper written by Denis Barthou, Albert Cohen and Jean-Francois Collard.[^f1] \n",
    "Let take a example (from the article) to understand the principle :"
   ]
  },
  {
   "cell_type": "code",
   "execution_count": null,
   "metadata": {
    "collapsed": true
   },
   "outputs": [],
   "source": [
    "int tmp;\n",
    "for (int i = 0; i < N; i++) {\n",
    "    tmp = i;\n",
    "    for (int j = 0; j < N; j++) {\n",
    "        tmp = tmp + i + j;\n",
    "    }\n",
    "    A[i] = tmp;\n",
    "}"
   ]
  },
  {
   "cell_type": "markdown",
   "metadata": {},
   "source": [
    "The data-dependences induced by tmp make the two loops unparallelizable : the iteration j of the inner-loop needs value from the previous iteration and it is impossible to parrallelize the i-loop because tmp is used in all iterations.\n",
    "\n",
    "If we expand the accesses to tmp according to the outermost loop, we can then parallelize the i-loop."
   ]
  },
  {
   "cell_type": "code",
   "execution_count": null,
   "metadata": {
    "collapsed": true
   },
   "outputs": [],
   "source": [
    "int tmp_exp[N];\n",
    "for (int i = 0; i < N; i++) {\n",
    "    tmp_exp[i] = i;\n",
    "    for (int j = 0; j < N; j++) {\n",
    "        tmp_exp[i] = tmp_exp[i] + i + j;\n",
    "    }\n",
    "    A[i] = tmp_exp[i];\n",
    "}"
   ]
  },
  {
   "cell_type": "markdown",
   "metadata": {},
   "source": [
    "The accesses to tmp are now made to/from a different location for each iteration of the i-loop. It is then possible to execute the different iteration on different computation units (GPU, CPU ...).\n",
    "\n",
    "### Static single assignement\n",
    "Due to lack of time, I was not able to implement **maximal** static expansion but only fully-indexed expansion. The principle of fully-index expansion is that each write goes to a different memory location. \n",
    "Let see the idea on an example :"
   ]
  },
  {
   "cell_type": "code",
   "execution_count": null,
   "metadata": {
    "collapsed": true
   },
   "outputs": [],
   "source": [
    "int tmp;\n",
    "for (int i = 0; i < N; i++) {\n",
    "    tmp = i;\n",
    "    for (int j = 0; j < N; j++) {\n",
    "        B[j] = tmp + 3;\n",
    "    }\n",
    "    A[i] = B[i];\n",
    "}"
   ]
  },
  {
   "cell_type": "markdown",
   "metadata": {},
   "source": [
    "For the sake of simplicity, only the arrays will be expanded in this example. The fully expanded version is :"
   ]
  },
  {
   "cell_type": "code",
   "execution_count": null,
   "metadata": {
    "collapsed": true
   },
   "outputs": [],
   "source": [
    "int tmp;\n",
    "for (int i = 0; i < N; i++) {\n",
    "    tmp = i;\n",
    "    for (int j = 0; j < N; j++) {\n",
    "        B_exp[i][j] = tmp + 3;\n",
    "    }\n",
    "    A_exp[i] = B_exp[i][i];\n",
    "}"
   ]
  },
  {
   "cell_type": "markdown",
   "metadata": {},
   "source": [
    "The details of fully-indexed expansion will be discussed in the following sections."
   ]
  },
  {
   "cell_type": "markdown",
   "metadata": {},
   "source": [
    "\n",
    "## My work\n",
    "My project is part of Polly. I am a french student but during the GSoC I was a student at the university of Passau, Germany. The LooPo team welcome me and more especially Andreas Simbürger, one of my GSoC mentor and my master thesis supervisor. My other GSoC mentor is Michael Kruse, one of the main contributor to Polly, actually working in France.\n",
    "I'd like to thank all the people that help and guide me and more especially Andreas and Michael. \n",
    "\n",
    "### JSON bug fix\n",
    "As first step in open source software development and to get familiar with Polly/LLVM development process, I fixed a open bug in Polly. Polly can import data from a JSON file (in case of Polly called jscop file). It can import new array, new memory access, new schedule or new context. In the previous implementation of JSONImporter, Polly did not check if the data in the jscop file were plausible and consistent before import. This can lead to failure in the remaining part of the Polly pipeline. My work was to implement plausibility and consistency checks. Details, diff and discussions can be found here : https://reviews.llvm.org/D32739. This patch has been merged into the actual version of Polly.\n",
    "\n",
    "### Allocate array on heap\n",
    "During transformation, Polly can create new arrays because it helps optimizing the program. Before GSoC, it was only possible to allocate array on the stack. It is sufficient for small arrays, but while doing expansion, we possibly handle very large arrays. For example, if we want to expand fully this simple code :\n"
   ]
  },
  {
   "cell_type": "code",
   "execution_count": null,
   "metadata": {
    "collapsed": true
   },
   "outputs": [],
   "source": [
    "for (int i = 0; i < N; i++)\n",
    "  for (int j = 0; j < N; j++)\n",
    "    for (int k = 0; k < N; k++)\n",
    "      for (int l = 0; l < N; l++)\n",
    "        A[l] = 3;"
   ]
  },
  {
   "cell_type": "markdown",
   "metadata": {},
   "source": [
    "The expansion would lead to the following code :"
   ]
  },
  {
   "cell_type": "code",
   "execution_count": null,
   "metadata": {
    "collapsed": true
   },
   "outputs": [],
   "source": [
    "for (int i = 0; i < N; i++)\n",
    "  for (int j = 0; j < N; j++)\n",
    "    for (int k = 0; k < N; k++)\n",
    "      for (int l = 0; l < N; l++)\n",
    "        A_exp[i][j][k][l] = 3;"
   ]
  },
  {
   "cell_type": "markdown",
   "metadata": {},
   "source": [
    "Depending on the value of N, A_exp can have a huge number of elements. If N = 100, we have $100*100*100*100 = 100000000 = 10^8$ elements ! Thus, the possibility to allocate array on heap was needed. \n",
    "\n",
    "The array allocation is implemented in the IslNodeBuilder. Here is the part of the code that do the allocation :"
   ]
  },
  {
   "cell_type": "code",
   "execution_count": null,
   "metadata": {
    "collapsed": true
   },
   "outputs": [],
   "source": [
    "void IslNodeBuilder::allocateNewArrays(BBPair StartExitBlocks) {\n",
    "  for (auto &SAI : S.arrays()) {\n",
    "    if (SAI->getBasePtr())\n",
    "      continue;\n",
    "\n",
    "    assert(SAI->getNumberOfDimensions() > 0 && SAI->getDimensionSize(0) &&\n",
    "           \"The size of the outermost dimension is used to declare newly \"\n",
    "           \"created arrays that require memory allocation.\");\n",
    "\n",
    "    Type *NewArrayType = nullptr;\n",
    "\n",
    "    // Get the size of the array = size(dim_1)*...*size(dim_n)\n",
    "    uint64_t ArraySizeInt = 1;\n",
    "    for (int i = SAI->getNumberOfDimensions() - 1; i >= 0; i--) {\n",
    "      auto *DimSize = SAI->getDimensionSize(i);\n",
    "      unsigned UnsignedDimSize = static_cast<const SCEVConstant *>(DimSize)\n",
    "                                     ->getAPInt()\n",
    "                                     .getLimitedValue();\n",
    "\n",
    "      if (!NewArrayType)\n",
    "        NewArrayType = SAI->getElementType();\n",
    "\n",
    "      NewArrayType = ArrayType::get(NewArrayType, UnsignedDimSize);\n",
    "      ArraySizeInt *= UnsignedDimSize;\n",
    "    }\n",
    "\n",
    "    if (SAI->isOnHeap()) {\n",
    "      LLVMContext &Ctx = NewArrayType->getContext();\n",
    "\n",
    "      // Get the IntPtrTy from the Datalayout\n",
    "      auto IntPtrTy = DL.getIntPtrType(Ctx);\n",
    "\n",
    "      // Get the size of the element type in bits\n",
    "      unsigned Size = SAI->getElemSizeInBytes();\n",
    "\n",
    "      // Insert the malloc call at polly.start\n",
    "      auto InstIt = std::get<0>(StartExitBlocks)->getTerminator();\n",
    "      auto *CreatedArray = CallInst::CreateMalloc(\n",
    "          &*InstIt, IntPtrTy, SAI->getElementType(),\n",
    "          ConstantInt::get(Type::getInt64Ty(Ctx), Size),\n",
    "          ConstantInt::get(Type::getInt64Ty(Ctx), ArraySizeInt), nullptr,\n",
    "          SAI->getName());\n",
    "\n",
    "      SAI->setBasePtr(CreatedArray);\n",
    "\n",
    "      // Insert the free call at polly.exiting\n",
    "      CallInst::CreateFree(CreatedArray,\n",
    "                           std::get<1>(StartExitBlocks)->getTerminator());\n",
    "\n",
    "    } else {\n",
    "      auto InstIt = Builder.GetInsertBlock()\n",
    "                        ->getParent()\n",
    "                        ->getEntryBlock()\n",
    "                        .getTerminator();\n",
    "\n",
    "      auto *CreatedArray = new AllocaInst(NewArrayType, DL.getAllocaAddrSpace(),\n",
    "                                          SAI->getName(), &*InstIt);\n",
    "      CreatedArray->setAlignment(PollyTargetFirstLevelCacheLineSize);\n",
    "      SAI->setBasePtr(CreatedArray);\n",
    "    }\n",
    "  }\n",
    "}"
   ]
  },
  {
   "cell_type": "markdown",
   "metadata": {},
   "source": [
    "My work in this method is the size computation and the heap allocation part. The remaining code was already in place.\n",
    "\n",
    "Let explain step by step the principle of the heap allocation.\n",
    "\n",
    "First of all, to allocate array, we need to have the size of the memory chunk we want to allocate. To do that, we simply iterate over the dimension of the ScopArrayInfo and multiply the size of each dimensions. This is done by this code :"
   ]
  },
  {
   "cell_type": "code",
   "execution_count": null,
   "metadata": {
    "collapsed": true
   },
   "outputs": [],
   "source": [
    "    // Get the size of the array = size(dim_1)*...*size(dim_n)\n",
    "    uint64_t ArraySizeInt = 1;\n",
    "    for (int i = SAI->getNumberOfDimensions() - 1; i >= 0; i--) {\n",
    "      auto *DimSize = SAI->getDimensionSize(i);\n",
    "      unsigned UnsignedDimSize = static_cast<const SCEVConstant *>(DimSize)\n",
    "                                     ->getAPInt()\n",
    "                                     .getLimitedValue();"
   ]
  },
  {
   "cell_type": "markdown",
   "metadata": {},
   "source": [
    "Details, diff and discussions can be found here : https://reviews.llvm.org/D33688. This patch has been merged into the actual version of Polly.\n",
    "\n",
    "### Array Fully indexed exp\n",
    "https://reviews.llvm.org/D34982\n",
    "bug : https://reviews.llvm.org/D36791\n",
    "clear deps : https://reviews.llvm.org/D36926\n",
    "\n",
    "### Scalar Fully indexed exp\n",
    "Details, diff and discussions can be found here : https://reviews.llvm.org/D36647. This patch has been merged into the actual version of Polly.\n",
    "\n",
    "\n",
    "## Evaluation\n",
    "\n",
    "## Remaining work\n",
    "\n",
    "### MAXIMAL expansion\n",
    "### Select which SAI to expand"
   ]
  },
  {
   "cell_type": "markdown",
   "metadata": {},
   "source": [
    "[^f1]: Denis Barthou, Albert Cohen, and Jean-François Collard. 2000. Maximal Static Expansion. Int. J. Parallel Program. 28, 3 (June 2000), 213-243. DOI=http://dx.doi.org/10.1023/A:1007500431910 \n"
   ]
  }
 ],
 "metadata": {
  "kernelspec": {
   "display_name": "Python 3",
   "language": "python",
   "name": "python3"
  },
  "language_info": {
   "codemirror_mode": {
    "name": "ipython",
    "version": 3
   },
   "file_extension": ".py",
   "mimetype": "text/x-python",
   "name": "python",
   "nbconvert_exporter": "python",
   "pygments_lexer": "ipython3",
   "version": "3.5.2"
  }
 },
 "nbformat": 4,
 "nbformat_minor": 2
}
